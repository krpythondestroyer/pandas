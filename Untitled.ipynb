{
 "cells": [
  {
   "cell_type": "code",
   "execution_count": 9,
   "id": "4c87be15-0b01-42ae-8d0e-e80b52e233aa",
   "metadata": {},
   "outputs": [],
   "source": [
    "import pandas as pd"
   ]
  },
  {
   "cell_type": "code",
   "execution_count": 10,
   "id": "31dfc019-e7a9-47e0-8121-e7ec43bd5782",
   "metadata": {},
   "outputs": [
    {
     "name": "stdout",
     "output_type": "stream",
     "text": [
      "[100 101 102 103 104 105 106 107 108 109]\n"
     ]
    }
   ],
   "source": [
    "import numpy as np\n",
    "arr = np.arange(100,110)\n",
    "print(arr)"
   ]
  },
  {
   "cell_type": "code",
   "execution_count": 11,
   "id": "de375067-db89-4c30-87a3-8bfe2dba7a11",
   "metadata": {},
   "outputs": [
    {
     "name": "stdout",
     "output_type": "stream",
     "text": [
      "0    100\n",
      "1    101\n",
      "2    102\n",
      "3    103\n",
      "4    104\n",
      "5    105\n",
      "6    106\n",
      "7    107\n",
      "8    108\n",
      "9    109\n",
      "dtype: int64\n"
     ]
    }
   ],
   "source": [
    "s = pd.Series(arr)\n",
    "print(s)"
   ]
  },
  {
   "cell_type": "code",
   "execution_count": 12,
   "id": "ffa23f2e-cbce-4016-ac53-dd5f23f241c3",
   "metadata": {},
   "outputs": [
    {
     "data": {
      "text/plain": [
       "array([100, 101, 102, 103, 104, 105, 106, 107, 108, 109])"
      ]
     },
     "execution_count": 12,
     "metadata": {},
     "output_type": "execute_result"
    }
   ],
   "source": [
    "s.values"
   ]
  },
  {
   "cell_type": "code",
   "execution_count": 13,
   "id": "4c3ce8ee-d7e4-4433-805c-32a0039329ae",
   "metadata": {},
   "outputs": [
    {
     "data": {
      "text/plain": [
       "(10,)"
      ]
     },
     "execution_count": 13,
     "metadata": {},
     "output_type": "execute_result"
    }
   ],
   "source": [
    "s.shape"
   ]
  },
  {
   "cell_type": "markdown",
   "id": "21c71148-8efe-4115-93cc-9b70d2c6f27e",
   "metadata": {},
   "source": [
    "## NAN(Not A Number)"
   ]
  },
  {
   "cell_type": "code",
   "execution_count": 16,
   "id": "3f17a1df-ce1f-4036-b82f-1d3c88ad61a8",
   "metadata": {},
   "outputs": [
    {
     "name": "stdout",
     "output_type": "stream",
     "text": [
      "0     kim\n",
      "1     lee\n",
      "2    park\n",
      "3    hong\n",
      "4     NaN\n",
      "dtype: object\n"
     ]
    }
   ],
   "source": [
    "s = pd.Series(person + [np.nan])\n",
    "print(s)\n",
    "\n",
    "# nan - 파이선의 넌이다"
   ]
  },
  {
   "cell_type": "code",
   "execution_count": 20,
   "id": "ac032383-65aa-46f7-bbf3-d1022181bb2c",
   "metadata": {},
   "outputs": [
    {
     "name": "stdout",
     "output_type": "stream",
     "text": [
      "0    50.0\n",
      "1    51.0\n",
      "2    52.0\n",
      "3    53.0\n",
      "4    54.0\n",
      "dtype: float32\n"
     ]
    }
   ],
   "source": [
    "arr = np.arange(50,55)\n",
    "s = pd.Series(arr,dtype='float32')\n",
    "print(s)"
   ]
  },
  {
   "cell_type": "code",
   "execution_count": 21,
   "id": "1dc36639-11d0-4c93-aaf9-482d24210afa",
   "metadata": {},
   "outputs": [
    {
     "name": "stdout",
     "output_type": "stream",
     "text": [
      "가    바나나\n",
      "나    NaN\n",
      "다     사과\n",
      "라     포도\n",
      "마    복숭아\n",
      "dtype: object\n"
     ]
    }
   ],
   "source": [
    "f = ['바나나',np.nan,'사과','포도','복숭아']\n",
    "s = pd.Series(f,index=list('가나다라마'))\n",
    "print(s)"
   ]
  },
  {
   "cell_type": "markdown",
   "id": "aae7efc2-af3e-4271-9dc0-621fa2098eff",
   "metadata": {},
   "source": [
    "## 팬시 인덱싱"
   ]
  },
  {
   "cell_type": "code",
   "execution_count": 22,
   "id": "de30501a-2a2c-450e-a3b8-feb14007449c",
   "metadata": {},
   "outputs": [
    {
     "name": "stderr",
     "output_type": "stream",
     "text": [
      "C:\\Users\\이아랑\\AppData\\Local\\Temp\\ipykernel_14800\\1527880992.py:1: FutureWarning: Series.__getitem__ treating keys as positions is deprecated. In a future version, integer keys will always be treated as labels (consistent with DataFrame behavior). To access a value by position, use `ser.iloc[pos]`\n",
      "  s[[2,3]]\n"
     ]
    },
    {
     "data": {
      "text/plain": [
       "다    사과\n",
       "라    포도\n",
       "dtype: object"
      ]
     },
     "execution_count": 22,
     "metadata": {},
     "output_type": "execute_result"
    }
   ],
   "source": [
    "s[[2,3]]"
   ]
  },
  {
   "cell_type": "code",
   "execution_count": 24,
   "id": "7f632c11-1e47-446c-a955-8524f6c4dbf5",
   "metadata": {},
   "outputs": [
    {
     "data": {
      "text/plain": [
       "다     사과\n",
       "나    NaN\n",
       "dtype: object"
      ]
     },
     "execution_count": 24,
     "metadata": {},
     "output_type": "execute_result"
    }
   ],
   "source": [
    "s[['다','나']]"
   ]
  },
  {
   "cell_type": "code",
   "execution_count": 25,
   "id": "f7618320-c4c0-47ce-9da1-f8c585736007",
   "metadata": {},
   "outputs": [
    {
     "data": {
      "text/plain": [
       "다    사과\n",
       "라    포도\n",
       "dtype: object"
      ]
     },
     "execution_count": 25,
     "metadata": {},
     "output_type": "execute_result"
    }
   ],
   "source": [
    "s.iloc[[2,3]]"
   ]
  },
  {
   "cell_type": "code",
   "execution_count": 29,
   "id": "ce909609-5577-4a49-b594-f13983457183",
   "metadata": {},
   "outputs": [
    {
     "name": "stdout",
     "output_type": "stream",
     "text": [
      "0      5\n",
      "1      6\n",
      "2      7\n",
      "3      8\n",
      "4      9\n",
      "5     10\n",
      "6     11\n",
      "7     12\n",
      "8     13\n",
      "9     14\n",
      "10    15\n",
      "11    16\n",
      "12    17\n",
      "13    18\n",
      "14    19\n",
      "dtype: int64\n"
     ]
    }
   ],
   "source": [
    "arr = np.arange(5,20)\n",
    "s = pd.Series(arr)\n",
    "print(s)"
   ]
  },
  {
   "cell_type": "code",
   "execution_count": 30,
   "id": "bcf62a0e-9abe-4f7c-99a7-fefacfefdea3",
   "metadata": {},
   "outputs": [
    {
     "data": {
      "text/plain": [
       "0    5\n",
       "1    6\n",
       "2    7\n",
       "3    8\n",
       "4    9\n",
       "dtype: int64"
      ]
     },
     "execution_count": 30,
     "metadata": {},
     "output_type": "execute_result"
    }
   ],
   "source": [
    "s[s<10]"
   ]
  },
  {
   "cell_type": "code",
   "execution_count": 31,
   "id": "22d39332-32bd-48f7-b520-79e5f376382d",
   "metadata": {},
   "outputs": [
    {
     "data": {
      "text/plain": [
       "0    5\n",
       "dtype: int64"
      ]
     },
     "execution_count": 31,
     "metadata": {},
     "output_type": "execute_result"
    }
   ],
   "source": [
    "s[s==5]"
   ]
  },
  {
   "cell_type": "code",
   "execution_count": 33,
   "id": "953b763d-c1b4-4bff-98b8-08d951e2be6f",
   "metadata": {},
   "outputs": [
    {
     "name": "stdout",
     "output_type": "stream",
     "text": [
      "0    2.0\n",
      "1    4.0\n",
      "2    2.0\n",
      "3    1.0\n",
      "4    NaN\n",
      "5    2.0\n",
      "6    4.0\n",
      "7    8.0\n",
      "8    NaN\n",
      "dtype: float64\n"
     ]
    }
   ],
   "source": [
    "a = pd.Series([2,4,2,1,np.nan,2,4,8,np.nan])\n",
    "print(a)"
   ]
  },
  {
   "cell_type": "code",
   "execution_count": 34,
   "id": "bdcf1a84-12fd-4e8b-b741-e14dcfede4dc",
   "metadata": {},
   "outputs": [
    {
     "data": {
      "text/plain": [
       "0    False\n",
       "1    False\n",
       "2    False\n",
       "3    False\n",
       "4     True\n",
       "5    False\n",
       "6    False\n",
       "7    False\n",
       "8     True\n",
       "dtype: bool"
      ]
     },
     "execution_count": 34,
     "metadata": {},
     "output_type": "execute_result"
    }
   ],
   "source": [
    "a.isnull()"
   ]
  },
  {
   "cell_type": "code",
   "execution_count": 37,
   "id": "bccec3d6-92cf-4b06-9e68-43d91f06a7c2",
   "metadata": {},
   "outputs": [
    {
     "data": {
      "text/plain": [
       "4   NaN\n",
       "8   NaN\n",
       "dtype: float64"
      ]
     },
     "execution_count": 37,
     "metadata": {},
     "output_type": "execute_result"
    }
   ],
   "source": [
    "a[a.isnull()]"
   ]
  },
  {
   "cell_type": "code",
   "execution_count": 38,
   "id": "cbabbddc-87d8-49ef-8a47-d4d289a03a97",
   "metadata": {},
   "outputs": [
    {
     "data": {
      "text/plain": [
       "1    6\n",
       "2    7\n",
       "dtype: int64"
      ]
     },
     "execution_count": 38,
     "metadata": {},
     "output_type": "execute_result"
    }
   ],
   "source": [
    "s[1:3]"
   ]
  },
  {
   "cell_type": "code",
   "execution_count": 39,
   "id": "9435df78-5df4-4677-83c7-ec2408ede49f",
   "metadata": {},
   "outputs": [
    {
     "name": "stdout",
     "output_type": "stream",
     "text": [
      "[[0 1 2]\n",
      " [3 4 5]\n",
      " [6 7 8]]\n"
     ]
    }
   ],
   "source": [
    "arr = np.arange(9).reshape(3,3)\n",
    "print(arr)"
   ]
  },
  {
   "cell_type": "code",
   "execution_count": 41,
   "id": "4afb3cbf-e54c-4cec-8d61-534017481311",
   "metadata": {},
   "outputs": [
    {
     "data": {
      "text/html": [
       "<div>\n",
       "<style scoped>\n",
       "    .dataframe tbody tr th:only-of-type {\n",
       "        vertical-align: middle;\n",
       "    }\n",
       "\n",
       "    .dataframe tbody tr th {\n",
       "        vertical-align: top;\n",
       "    }\n",
       "\n",
       "    .dataframe thead th {\n",
       "        text-align: right;\n",
       "    }\n",
       "</style>\n",
       "<table border=\"1\" class=\"dataframe\">\n",
       "  <thead>\n",
       "    <tr style=\"text-align: right;\">\n",
       "      <th></th>\n",
       "      <th>0</th>\n",
       "      <th>1</th>\n",
       "      <th>2</th>\n",
       "    </tr>\n",
       "  </thead>\n",
       "  <tbody>\n",
       "    <tr>\n",
       "      <th>0</th>\n",
       "      <td>0</td>\n",
       "      <td>1</td>\n",
       "      <td>2</td>\n",
       "    </tr>\n",
       "    <tr>\n",
       "      <th>1</th>\n",
       "      <td>3</td>\n",
       "      <td>4</td>\n",
       "      <td>5</td>\n",
       "    </tr>\n",
       "    <tr>\n",
       "      <th>2</th>\n",
       "      <td>6</td>\n",
       "      <td>7</td>\n",
       "      <td>8</td>\n",
       "    </tr>\n",
       "  </tbody>\n",
       "</table>\n",
       "</div>"
      ],
      "text/plain": [
       "   0  1  2\n",
       "0  0  1  2\n",
       "1  3  4  5\n",
       "2  6  7  8"
      ]
     },
     "execution_count": 41,
     "metadata": {},
     "output_type": "execute_result"
    }
   ],
   "source": [
    "df = pd.DataFrame(arr)\n",
    "df"
   ]
  },
  {
   "cell_type": "code",
   "execution_count": 42,
   "id": "e13bdfef-da55-49c1-a4c7-d1643548c7fc",
   "metadata": {},
   "outputs": [
    {
     "ename": "SyntaxError",
     "evalue": "positional argument follows keyword argument (1235609896.py, line 5)",
     "output_type": "error",
     "traceback": [
      "\u001b[1;36m  Cell \u001b[1;32mIn[42], line 5\u001b[1;36m\u001b[0m\n\u001b[1;33m    )\u001b[0m\n\u001b[1;37m    ^\u001b[0m\n\u001b[1;31mSyntaxError\u001b[0m\u001b[1;31m:\u001b[0m positional argument follows keyword argument\n"
     ]
    }
   ],
   "source": []
  },
  {
   "cell_type": "code",
   "execution_count": null,
   "id": "5acb522c-19f9-4736-b2d4-2a4f5b04871b",
   "metadata": {},
   "outputs": [],
   "source": []
  }
 ],
 "metadata": {
  "kernelspec": {
   "display_name": "Python 3 (ipykernel)",
   "language": "python",
   "name": "python3"
  },
  "language_info": {
   "codemirror_mode": {
    "name": "ipython",
    "version": 3
   },
   "file_extension": ".py",
   "mimetype": "text/x-python",
   "name": "python",
   "nbconvert_exporter": "python",
   "pygments_lexer": "ipython3",
   "version": "3.12.4"
  }
 },
 "nbformat": 4,
 "nbformat_minor": 5
}
