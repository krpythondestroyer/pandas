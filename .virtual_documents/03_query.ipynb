import pandas as pd
import numpy as np
import seaborn as sns


# 파일 불러오기





df = sns.load_dataset('titanic')
df


df.head()


df.tail


df.tail()


df.head(10)


df.tail(10)


df.info()


 type(df['who'])


df['who'].value_counts()


df.ndim


df.shape


df.index


df.columns


df.values


df.info()


df['pclass'].value_counts()


df['pclass'].astype('int32')


df['pclass'].astype('float32')


df['pclass'].astype('category')


df.sort_index(ascending=False).head()


df.sort_values('age').head()


df.sort_values('age',ascending=False).head()


df.sort_values('class',ascending=False).head()


df.sort_values(['fare','age']).head()


df.sort_values(['fare','age'],ascending=[True,False]).head()


df.loc[3]


df.loc[3,'class']


df.loc[2:5, ['age','fare']]


df.loc[:, ['age','deck']]


df[['age','fare']]


cond = df['who'] == 'man'
cond 


df[cond].head()


df.loc[cond].head()


df[cond]['age'] = 100


df.loc[cond, 'age'] = 100


df.head()


cond1 = df['fare'] > 30
cond2 = df['who'] == 'women'


df.loc[cond1 & cond2].head


df.loc[cond1 | cond2].head()


df.iloc[1,7]


df.head()


df.tail()


df['fare'].where(df['fare'] < 30 )
df['fare'].where(cond,1 ).tail


df['embarked'].isin(['Q','S'])
df.loc[cond]


cond1 = df['embarked'] == 'Q'
cond2 = df['embarked'] == 'S'
df.loc[cond1 | cond2].head()


tips =sns.load_dataset('tips')
tips.head()





cond1 = tips['sex'] == 'Male'
cond2 = tips['smoker'] == 'Yes'


tips.loc[cond1 & cond2].sort_values('tip', ascending=False).head(10)




cond1 = tips['size'] >=  5
cond2 = tips['time'] == 'Dinner'

cond3 = tips['smoker'] == 'No'
cond4 = tips['day'].isin(['Sat', 'Sun'])


tips.loc[(cond1 & cond2) & (cond3 & cond4)].head()




