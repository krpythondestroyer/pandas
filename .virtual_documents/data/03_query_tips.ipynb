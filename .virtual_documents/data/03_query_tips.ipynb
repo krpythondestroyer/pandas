import pandas as pd
import seaborn as sns

df = sns.load_dataset('tips')


df.info



