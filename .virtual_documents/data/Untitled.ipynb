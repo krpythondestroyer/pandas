import numpy as np
import pandas as pd
import seaborn as sns

df = sns.load_dataset('titanic')


df_copy = df.copy()


df_copy.head()


id(df)


id(df_copy)


df_copy.loc[0,'age'] = 999


df_copy.head()


df_copy.tail()


df.isnull()


df.isna().sum()


df.isna().sum().sum()


df.notnull().sum()



cond = df['age'].isnull()
df.loc[cond].head()


- age가 결측치인 사람들의 나이를 30살로 채워주세요


c1 = df['age'].isnull()
df.loc[c1, 'age'] = 30



df.loc[5]


df = sns.load_dataset('titanic')


df1 = df.copy()


df1['age'].fillna(100).tail()


df1['age'] = df1['age'].fillna(100)
df1.tail()


df.info()


df['deck']


df['deck'].fillna('C')


df['deck'].fillna('No Data')


df1 = ['deck'].cat.add_categories('No Data')
df1['deck'].fillna('No Data')


df1 = df.copy()


mean_age = df1['age'].mean()
df1['age'].fillna(mean_age).tail()


median_age = df1['age'].median()
df1['age'].fillna(median_age).tail()


#- 남자 승객의 결측치는 => 남자 승객의 평균
#- 여자 승객의 결측치 => 여자 승객픠 평균





median_age = df1['age'].median()
df1['age'].fillna(median_age)




