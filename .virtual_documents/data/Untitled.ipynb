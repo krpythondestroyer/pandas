import numpy as np
import pandas as pd
import seaborn as sns

df = sns.load_dataset('titanic')


df1 = df.copy()


df1['VIP'] = False


df1.head()


df1.drop(1)


df1.drop(np.arange(10))


df1.drop([1,3,5,7]).head()


df1.drop('class',axis=1).head()


df1.drop(['class','who','alive'], axis=1)


df1.drop(['who','deck','alive'], axis=1, inplace=True)


df1.head()


df1 = df.copy()


df1['family'] = df1['sibsp'] + df1['parch']
df1.head()


df1['gender'] = df1['sex'] + '_' + df1['who']
df1.head()


df1['round'] = round(df1['fare'] / df1['age'], 2) 
df1.head()


df1.loc[df1['age'].isnull()].head()


df1 = df.copy()
df1.head(2)
df1.info()


df1['pclass'].astype('int32').head()


df['who'] = df1['who'].astype('category').head()


df1'who'].dtype


df1.['who'].cat.codes


df1['who'] = df1['who'].cat.rename_categories(['아이','남성','여성'])
df1['who'].values.counts()


dates =  pd.date_range('20240101',periods=df.shape[0],freq='10h')
dates 


df1['date'] = dates
df1.head()


df1.info()


df1['date'].dt.year.head()


df1['date'].dt.day.head()


df1['date'].dt.dayofweek.head()


df1 = pd.read_csv('DMF\pandas\data\seoul_bicycle.csv')


df1 = df1.copy()
df1['대여일자'] = pd.to_datetime(df1['대여일자'],format=)


df1.info()


pd.to_numeric(df1['운동량'])


df1.loc[2344]
pd.to_numeric(df['운동량'],errors='coerce')
df.info()


df.tail()


bins = [0, 200, 400, df1['운동량'],max()]
pd.cut()



