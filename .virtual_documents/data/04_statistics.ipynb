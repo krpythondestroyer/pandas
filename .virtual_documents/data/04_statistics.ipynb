import pandas as pd
import numpy as np
import seaborn as sns


df = sns.load_dataset('titanic')


df.describe()


df.info()


df.describe(include='object')


df.count()


df['age'].count()


arr = np.arange(15).reshape(3,5)
temp_df = pd.DataFrame(arr)
temp_df


df.mean(numeric_only=True)


df['age'].mean()


cond = df['adult_male'] == True
df.loc[cond, 'age'].mean()


cond1 = 30 <= df['fare'] 
cond3 = df['fare'] < 40
cond2 = df['pclass'] == 1

df.loc[cond1 & cond2 & cond3, 'age'].mean()


#pclass 1등급 

#나이평균 / count


df.mean(numeric_only=True, skipna=False)


pd.Series([1,2,3,4,5,]).median()


mean_value = df['age'].mean()
median_value = df['age'].median()
print(mean_value, median_value)


df.sum(numeric_only=True)


df['fare'].cumsum()


var (분산)


fare_mean = df['fare'].values.mean()

total = ((df['fare'].values - fare_mean) ** 2).sum()
total_count = df['fare'].count() - 1


np.sqrt(df['fare'].var())


df['fare'].std()


df['age'].max()


df['age'].agg(['mean','std'])


df[['age','fare']].agg(['mean','count','min','max'])





df['age'].quantile(0.1)


df['age'].quantile(0.5)


df['who'].unique


df['who'].mode()


df['deck'].mode()


df.corr(numeric_only=True)


df.corr(numeric_only=True)['survived']



