import pandas as pd
import numpy as np
import seaborn as sns


# 파일 불러오기





df = sns.load_dataset('titanic')
df


df.head()


df.tail


df.tail()


df.head(10)


df.tail(10)


df.info()


 type(df['who'])


df['who'].value_counts()


df.ndim


df.shape


df.index


df.columns


df.values


df.info()


df['pclass'].value_counts()


df['pclass'].astype('int32')


df['pclass'].astype('float32')


df['pclass'].astype('category')


df.sort_index(ascending=False).head()


df.sort_values('age').head()


df.sort_values('age',ascending=False).head()



