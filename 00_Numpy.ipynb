{
 "cells": [
  {
   "cell_type": "code",
   "execution_count": 105,
   "id": "194f7073-204a-4284-8c6c-aa7ddb37d0d1",
   "metadata": {},
   "outputs": [],
   "source": [
    "import numpy as np"
   ]
  },
  {
   "cell_type": "code",
   "execution_count": 99,
   "id": "a5792b0a-000f-444c-9ef1-f82da7a2cb29",
   "metadata": {},
   "outputs": [],
   "source": [
    "my_arr = np.arange(1000000)\n",
    "my_list = list(range(100000))\n",
    "\n",
    "#위 넘파이\n",
    "#아래 파이선"
   ]
  },
  {
   "cell_type": "code",
   "execution_count": 100,
   "id": "b68739cc-2c52-41ba-93b3-ee471b32a959",
   "metadata": {},
   "outputs": [
    {
     "name": "stdout",
     "output_type": "stream",
     "text": [
      "6.17 ms ± 1.93 ms per loop (mean ± std. dev. of 7 runs, 100 loops each)\n",
      "8.89 ms ± 802 μs per loop (mean ± std. dev. of 7 runs, 100 loops each)\n"
     ]
    }
   ],
   "source": [
    "%timeit my_arr2 = my_arr * 2\n",
    "%timeit my_list2 = [x * 2 for x in my_list]\n",
    "\n",
    "# 타임 안뜸"
   ]
  },
  {
   "cell_type": "code",
   "execution_count": 101,
   "id": "2853f0d9-bb92-42a5-bdf4-ba35f9eb6ed4",
   "metadata": {},
   "outputs": [
    {
     "name": "stdout",
     "output_type": "stream",
     "text": [
      "[[   5.     1.1   -5. ]\n",
      " [ 123.  -123.     0. ]]\n"
     ]
    }
   ],
   "source": [
    "a = [\n",
    "    [5, 1.1, -5],\n",
    "    [123, -123, 0]\n",
    "]\n",
    "data = np.array(a)\n",
    "print(data)"
   ]
  },
  {
   "cell_type": "code",
   "execution_count": 102,
   "id": "e40e5dc8-60e2-4415-9390-a19c62f22e9d",
   "metadata": {},
   "outputs": [
    {
     "name": "stdout",
     "output_type": "stream",
     "text": [
      "[[   50.    11.   -50.]\n",
      " [ 1230. -1230.     0.]]\n",
      "[[  10.     2.2  -10. ]\n",
      " [ 246.  -246.     0. ]]\n"
     ]
    }
   ],
   "source": [
    "print(data * 10 )\n",
    "print(data + data)"
   ]
  },
  {
   "cell_type": "code",
   "execution_count": 103,
   "id": "7aea35da-bda7-43d5-a8f6-beb84ed60b54",
   "metadata": {},
   "outputs": [
    {
     "name": "stdout",
     "output_type": "stream",
     "text": [
      "(2, 3)\n",
      "float64\n"
     ]
    }
   ],
   "source": [
    "print(data.shape)\n",
    "print(data.dtype)"
   ]
  },
  {
   "cell_type": "code",
   "execution_count": 104,
   "id": "5ee82781-2e74-41ef-9ef6-9ac22f60d345",
   "metadata": {},
   "outputs": [
    {
     "name": "stdout",
     "output_type": "stream",
     "text": [
      "import numpy as np\n",
      "my_arr = np.arange(1000000)\n",
      "my_list = list(range(1000000))\n",
      "my_arr = np.arange(1000000)\n",
      "my_list = list(range(1000000))\n",
      "\n",
      "#위 넘파이\n",
      "%timeit my_arr = my_arr * 2\n",
      "%timeit my_list = [x * 2 for x in my_list]\n",
      "%timeit my_arr2 = my_arr * 2\n",
      "%timeit my_list2 = [x * 2 for x in my_list]\n",
      "%timeit my_arr2 = my_arr * 2\n",
      "%timeit my_list2 = [x * 2 for x in my_list]\n",
      "%timeit my_arr2 = my_arr * 2\n",
      "%timeit my_list2 = [x * 2 for x in my_list]\n",
      "%timeit my_arr2 = my_arr * 2\n",
      "%timeit my_list2 = [x * 2 for x in my_list]\n",
      "\n",
      "# 타임 안뜸\n",
      "a = [\n",
      "    [5, 1.1, -5],\n",
      "    [123, -123, 0]\n",
      "]\n",
      "data = np.array(a)\n",
      "print(data)\n",
      "print(data * 10 )\n",
      "print(data * 10 )\n",
      "print(data + data)\n",
      "print(data.shiap)\n",
      "print(data.shape)\n",
      "print(data.shape)\n",
      "print(data.dtype)\n",
      "history\n",
      "my_list = [4,1, 2, 6, 3]\n",
      "arr = np.larray(my_list)\n",
      "print(arr)\n",
      "my_list = [4,1, 2, 6, 3]\n",
      "arr = np.array(my_list)\n",
      "print(arr)\n",
      "my_list = [4,1, 2, 6, 3.1]\n",
      "arr = np.array(my_list)\n",
      "print(arr)\n",
      "my_list2 = [[1,2,3,4], [5,6,7,8]]\n",
      "arr2 = np.array(my_list2)\n",
      "print(arr2)\n",
      "print(arr.dtype)\n",
      "print(arr2.dtype)\n",
      "print(arr.ndim)\n",
      "print(arr2.ndim)\n",
      "print(arr.shape)\n",
      "print(arr2.shape)\n",
      "print(np.zeros(10))\n",
      "print(np.zeros(10))\n",
      "print(np.zeros((5,5)))\n",
      "print(np.zeros(10))\n",
      "print(np.zeros((5,5)))\n",
      "print(np.empty(2,3,4,))\n",
      "print(np.zeros(10))\n",
      "print(np.zeros((5,5)))\n",
      "print(np.empty(2,3,4,)))\n",
      "print(np.zeros(10))\n",
      "print(np.zeros((5,5)))\n",
      "print(np.empty((2,3,4,)))\n",
      "print(np.arage(12))\n",
      "print(np.arange(12))\n",
      "## 1.2 자료형\n",
      "arr1 = np.array([1,2,3])\n",
      "arr2 = np.array([1,2,3])\n",
      "\n",
      "print(arr1.dtype)\n",
      "print(arr2.dtype)\n",
      "arr = np.array([1,2,3,4,5])\n",
      "print(arr)\n",
      "arr.\n",
      "arr = np.array([1,2,3,4,5])\n",
      "print(arr)\n",
      "arr.astpye(np.float32)\n",
      "arr = np.array([1,2,3,4,5])\n",
      "print(arr)\n",
      "foat_arr= arr.astpye(np.float32)\n",
      "arr = np.array([1,2,3,4,5])\n",
      "print(arr)\n",
      "foat_arr= arr.astypy(np.float32)\n",
      "arr = np.array([1,2,3,4,5])\n",
      "print(arr)\n",
      "foat_arr= arr.astype(np.float32)\n",
      "arr = np.array([1.1, 2.2, 3.3, -1.1, -2.2, -3.3])\n",
      "arr.astype(np.int32)\n",
      "arr = np.array([1.1, 2.2, 3.3, -1.1, -2.2, -3.3])\n",
      "arr.astype(np.int32)\n",
      "arr = np.array([1.1, 2.2, 3.3, -1.1, -2.2, -3.3])\n",
      "arr.astype(np.int32)\n",
      "print(result)\n",
      "arr = np.array([1.1, 2.2, 3.3, -1.1, -2.2, -3.3])\n",
      "arr.astype(np.int32)\n",
      "print(result)\n",
      "arr = np.array([1.1, 2.2, 3.3, -1.1, -2.2, -3.3])\n",
      "result = arr.astype(np.int32)\n",
      "print(result)\n",
      "np.array(['[12]','[3,4]','[56]'], dtype=np.int32)\n",
      "np.array(['[12]','3,4','56'], dtype=np.int32)\n",
      "result = np.array(['[12]','3,4','56'], dtype=np.int32)\n",
      "print(result)\n",
      "a = [\n",
      "    []\n",
      "    []\n",
      "    \n",
      "]\n",
      "print(arr / 10 )\n",
      "print(arr ** 2)\n",
      "print(arr + arr)\n",
      "print(arr - arr)\n",
      "b = [\n",
      "    [3,2,1]\n",
      "    [6,5,4]\n",
      "]\n",
      "arr2 = np.array(b)\n",
      "\n",
      "print(arr)\n",
      "print(arr2)\n",
      "b = [\n",
      "    [3,2,1],\n",
      "    [6,5,4]\n",
      "]\n",
      "arr2 = np.array(b)\n",
      "\n",
      "print(arr)\n",
      "print(arr2)\n",
      "## 1.4 인덱싱, 슬라이싱\n",
      "\n",
      "arr = np.arrange(10)\n",
      "print(arr)\n",
      "## 1.4 인덱싱, 슬라이싱\n",
      "\n",
      "arr = np.arrange(10)\n",
      "print(arr)\n",
      "print(arr[5])\n",
      "## 1.4 인덱싱, 슬라이싱\n",
      "\n",
      "arr = np.arange(10)\n",
      "print(arr)\n",
      "print(arr[5])\n",
      "## 1.4 인덱싱, 슬라이싱\n",
      "\n",
      "arr = np.arange(10)\n",
      "print(arr)\n",
      "print(arr[5])\n",
      "print(arr[3:^])\n",
      "## 1.4 인덱싱, 슬라이싱\n",
      "\n",
      "arr = np.arange(10)\n",
      "print(arr)\n",
      "print(arr[5])\n",
      "print(arr[3:6])\n",
      "## 1.4 인덱싱, 슬라이싱\n",
      "\n",
      "arr = np.arange(10)\n",
      "print(arr)\n",
      "print(arr[5])\n",
      "print(arr[3:6])\n",
      "\n",
      "arr[3:6]\n",
      "slice_arr = arr[3:6]\n",
      "print(slice_arr)\n",
      "slice_arr = arr[3:6]\n",
      "print(slice_arr)\n",
      "slice_arr[1] = 55\n",
      "print(slice_arr)\n",
      "print(arr)\n",
      "slice_arr[1] = 55\n",
      "print(slice_arr)\n",
      "print(arr)\n",
      "slice_arr[:]\n",
      "a = [\n",
      "        [\n",
      "            [1,2,3],\n",
      "            [4,5,6]\n",
      "    ],\n",
      "    [\n",
      "        [7,8,9],\n",
      "        [10,11,12]\n",
      "        \n",
      "    ]\n",
      "]\n",
      "arr = np.array.(a)\n",
      "print(arr)\n",
      "print(arr[]0[)\n",
      "print(arr[0])\n",
      "print(arr[0][0])\n",
      "print(arr[0])\n",
      "print(arr[0][0][0])\n",
      "print(arr[0,0,0])\n",
      "print(arr[0])\n",
      "print(arr[0][0][0])\n",
      "print(arr[0,0][0])\n",
      "arr = np.arange(10)\n",
      "arr [1:]\n",
      "np.arange(9).reshape(3,3)\n",
      "array(\n",
      "array([0,1,2],\n",
      "        [3,4,5]])\n",
      "array([[0,1,2],\n",
      "        [3,4,5]])\n",
      "array:([[0,1,2],\n",
      "        [3,4,5]])\n",
      "array:([[0,1,2],\n",
      "        [3,4,5]])\n",
      "arr2d[1, :2]\n",
      "arr2d[:, :1] = 99\n",
      "arr2d[:, :1] = 99\n",
      "print(arr2d)\n",
      "%timeit my_arr2 = my_arr * 2\n",
      "%timeit my_list2 = [x * 2 for x in my_list]\n",
      "\n",
      "# 타임 안뜸\n",
      "% timeit my_arr2 = my_arr * 2\n",
      "%timeit my_list2 = [x * 2 for x in my_list]\n",
      "\n",
      "# 타임 안뜸\n",
      "my_arr = np.arange(1000000)\n",
      "my_list = list(range(1000000))\n",
      "\n",
      "#위 넘파이\n",
      "#아래 파이선\n",
      "%timeit my_arr2 = my_arr * 2\n",
      "%timeit my_list2 = [x * 2 for x in my_list]\n",
      "\n",
      "# 타임 안뜸\n",
      "my_arr = np.arange(100000)\n",
      "my_list = list(range(100000))\n",
      "\n",
      "#위 넘파이\n",
      "#아래 파이선\n",
      "%timeit my_arr2 = my_arr * 2\n",
      "%timeit my_list2 = [x * 2 for x in my_list]\n",
      "\n",
      "# 타임 안뜸\n",
      "my_arr = np.arange(100000)\n",
      "my_list = list(range(100000))\n",
      "\n",
      "#위 넘파이\n",
      "#아래 파이선\n",
      "%timeit my_arr2 = my_arr * 2\n",
      "%timeit my_list2 = [x * 2 for x in my_list]\n",
      "\n",
      "# 타임 안뜸\n",
      "my_arr = np.arange(1000000)\n",
      "my_list = list(range(100000))\n",
      "\n",
      "#위 넘파이\n",
      "#아래 파이선\n",
      "%timeit my_arr2 = my_arr * 2\n",
      "%timeit my_list2 = [x * 2 for x in my_list]\n",
      "\n",
      "# 타임 안뜸\n",
      "my_arr = np.arange(1000000)\n",
      "my_list = list(range(100000))\n",
      "\n",
      "#위 넘파이\n",
      "#아래 파이선\n",
      "my_arr = np.arange(1000000)\n",
      "my_list = list(range(100000))\n",
      "\n",
      "#위 넘파이\n",
      "#아래 파이선\n",
      "my_arr = np.arange(1000000)\n",
      "my_list = list(range(100000))\n",
      "\n",
      "#위 넘파이\n",
      "#아래 파이선\n",
      "my_arr = np.arange(1000000)\n",
      "my_list = list(range(100000))\n",
      "\n",
      "#위 넘파이\n",
      "#아래 파이선\n",
      "%timeit my_arr2 = my_arr * 2\n",
      "%timeit my_list2 = [x * 2 for x in my_list]\n",
      "\n",
      "# 타임 안뜸\n",
      "%timeit my_arr2 = my_arr * 2\n",
      "%timeit my_list2 = [x * 2 for x in my_list]\n",
      "\n",
      "# 타임 안뜸\n",
      "%timeit my_arr2 = my_arr * 2\n",
      "%timeit my_list2 = [x * 2 for x in my_list]\n",
      "\n",
      "# 타임 안뜸\n",
      "%timeit my_arr2 = my_arr * 2\n",
      "%timeit my_list2 = [x * 2 for x in my_list]\n",
      "\n",
      "# 타임 안뜸\n",
      "%timeit my_arr2 = my_arr * 2\n",
      "%timeit my_list2 = [x * 2 for x in my_list]\n",
      "\n",
      "# 타임 안뜸\n",
      "%timeit my_arr2 = my_arr * 2\n",
      "%timeit my_list2 = [x * 2 for x in my_list]\n",
      "\n",
      "# 타임 안뜸\n",
      "%timeit my_arr2 = my_arr * 2\n",
      "%timeit my_list2 = [x * 2 for x in my_list]\n",
      "\n",
      "# 타임 안뜸\n",
      "import numpy as np\n",
      "my_arr = np.arange(1000000)\n",
      "my_list = list(range(100000))\n",
      "\n",
      "#위 넘파이\n",
      "#아래 파이선\n",
      "%timeit my_arr2 = my_arr * 2\n",
      "%timeit my_list2 = [x * 2 for x in my_list]\n",
      "\n",
      "# 타임 안뜸\n",
      "a = [\n",
      "    [5, 1.1, -5],\n",
      "    [123, -123, 0]\n",
      "]\n",
      "data = np.array(a)\n",
      "print(data)\n",
      "print(data * 10 )\n",
      "print(data + data)\n",
      "print(data.shape)\n",
      "print(data.dtype)\n",
      "history\n"
     ]
    }
   ],
   "source": [
    "history"
   ]
  },
  {
   "cell_type": "markdown",
   "id": "88d755cc-fcba-4146-9903-02879f09be20",
   "metadata": {},
   "source": [
    "## 1.1 ndarray 생성"
   ]
  },
  {
   "cell_type": "code",
   "execution_count": 18,
   "id": "6e5511cb-39c6-46bc-b0b6-8a29690ec4b4",
   "metadata": {},
   "outputs": [
    {
     "name": "stdout",
     "output_type": "stream",
     "text": [
      "[4.  1.  2.  6.  3.1]\n"
     ]
    }
   ],
   "source": [
    "my_list = [4,1, 2, 6, 3.1]\n",
    "arr = np.array(my_list)\n",
    "print(arr)"
   ]
  },
  {
   "cell_type": "code",
   "execution_count": 19,
   "id": "862dd34c-edfc-456b-8b09-6c51ceeae033",
   "metadata": {},
   "outputs": [
    {
     "name": "stdout",
     "output_type": "stream",
     "text": [
      "[[1 2 3 4]\n",
      " [5 6 7 8]]\n"
     ]
    }
   ],
   "source": [
    "my_list2 = [[1,2,3,4], [5,6,7,8]]\n",
    "arr2 = np.array(my_list2)\n",
    "print(arr2)"
   ]
  },
  {
   "cell_type": "code",
   "execution_count": 20,
   "id": "b2cef749-8c31-461e-9457-2c2d4ea54481",
   "metadata": {},
   "outputs": [
    {
     "name": "stdout",
     "output_type": "stream",
     "text": [
      "float64\n",
      "int64\n"
     ]
    }
   ],
   "source": [
    "print(arr.dtype)\n",
    "print(arr2.dtype)"
   ]
  },
  {
   "cell_type": "code",
   "execution_count": 21,
   "id": "00028b72-2fca-4710-abf4-2338849f9119",
   "metadata": {},
   "outputs": [
    {
     "name": "stdout",
     "output_type": "stream",
     "text": [
      "1\n",
      "2\n"
     ]
    }
   ],
   "source": [
    "print(arr.ndim)\n",
    "print(arr2.ndim)"
   ]
  },
  {
   "cell_type": "code",
   "execution_count": 22,
   "id": "da084502-9fbc-4244-a9cb-145cfa66d636",
   "metadata": {},
   "outputs": [
    {
     "name": "stdout",
     "output_type": "stream",
     "text": [
      "(5,)\n",
      "(2, 4)\n"
     ]
    }
   ],
   "source": [
    "print(arr.shape)\n",
    "print(arr2.shape)"
   ]
  },
  {
   "cell_type": "code",
   "execution_count": 27,
   "id": "73df2be3-4f15-43ab-8a3e-ef6c0ca5794f",
   "metadata": {},
   "outputs": [
    {
     "name": "stdout",
     "output_type": "stream",
     "text": [
      "[0. 0. 0. 0. 0. 0. 0. 0. 0. 0.]\n",
      "[[0. 0. 0. 0. 0.]\n",
      " [0. 0. 0. 0. 0.]\n",
      " [0. 0. 0. 0. 0.]\n",
      " [0. 0. 0. 0. 0.]\n",
      " [0. 0. 0. 0. 0.]]\n",
      "[[[ 6.23042070e-307  1.86918699e-306  1.69121096e-306 -5.09990656e-041]\n",
      "  [ 1.69119330e-306  1.42419802e-306  9.79106514e-307  1.33511018e-306]\n",
      "  [ 6.23059726e-307  1.95821439e-306  8.01097889e-307  1.78020169e-306]]\n",
      "\n",
      " [[ 7.56601165e-307  1.02359984e-306  8.90092016e-307  1.02361342e-306]\n",
      "  [ 6.89804133e-307  8.90104239e-307  8.90098127e-307  8.90111708e-307]\n",
      "  [ 6.23054633e-307  9.34598926e-307  1.42410974e-306  1.42410974e-306]]]\n"
     ]
    }
   ],
   "source": [
    "print(np.zeros(10))\n",
    "print(np.zeros((5,5)))\n",
    "print(np.empty((2,3,4,)))"
   ]
  },
  {
   "cell_type": "code",
   "execution_count": 29,
   "id": "72c57756-9acc-49f7-9bb3-a55a8561248b",
   "metadata": {},
   "outputs": [
    {
     "name": "stdout",
     "output_type": "stream",
     "text": [
      "[ 0  1  2  3  4  5  6  7  8  9 10 11]\n"
     ]
    }
   ],
   "source": [
    "print(np.arange(12))"
   ]
  },
  {
   "cell_type": "markdown",
   "id": "81193bfd-f98e-42ce-8aec-cef339fa4876",
   "metadata": {},
   "source": [
    "## 1.2 자료형"
   ]
  },
  {
   "cell_type": "code",
   "execution_count": 31,
   "id": "0048ab3a-7a42-4f48-9783-d589c77703d7",
   "metadata": {},
   "outputs": [
    {
     "name": "stdout",
     "output_type": "stream",
     "text": [
      "int64\n",
      "int64\n"
     ]
    }
   ],
   "source": [
    "arr1 = np.array([1,2,3])\n",
    "arr2 = np.array([1,2,3])\n",
    "\n",
    "print(arr1.dtype)\n",
    "print(arr2.dtype)"
   ]
  },
  {
   "cell_type": "code",
   "execution_count": 36,
   "id": "cc1d6f52-0185-461a-9e52-616506b0d190",
   "metadata": {},
   "outputs": [
    {
     "name": "stdout",
     "output_type": "stream",
     "text": [
      "[1 2 3 4 5]\n"
     ]
    }
   ],
   "source": [
    "arr = np.array([1,2,3,4,5])\n",
    "print(arr)\n",
    "foat_arr= arr.astype(np.float32)\n",
    "print()\n",
    "print()"
   ]
  },
  {
   "cell_type": "code",
   "execution_count": 41,
   "id": "00f0e9a3-c99c-45cf-ad89-7a3525047c69",
   "metadata": {},
   "outputs": [
    {
     "name": "stdout",
     "output_type": "stream",
     "text": [
      "[ 1  2  3 -1 -2 -3]\n"
     ]
    }
   ],
   "source": [
    "arr = np.array([1.1, 2.2, 3.3, -1.1, -2.2, -3.3])\n",
    "result = arr.astype(np.int32)\n",
    "print(result)"
   ]
  },
  {
   "cell_type": "code",
   "execution_count": 44,
   "id": "f530d402-a6b8-433b-8f58-3cae9aec88a4",
   "metadata": {},
   "outputs": [
    {
     "ename": "ValueError",
     "evalue": "invalid literal for int() with base 10: '[12]'",
     "output_type": "error",
     "traceback": [
      "\u001b[1;31m---------------------------------------------------------------------------\u001b[0m",
      "\u001b[1;31mValueError\u001b[0m                                Traceback (most recent call last)",
      "Cell \u001b[1;32mIn[44], line 1\u001b[0m\n\u001b[1;32m----> 1\u001b[0m result \u001b[38;5;241m=\u001b[39m \u001b[43mnp\u001b[49m\u001b[38;5;241;43m.\u001b[39;49m\u001b[43marray\u001b[49m\u001b[43m(\u001b[49m\u001b[43m[\u001b[49m\u001b[38;5;124;43m'\u001b[39;49m\u001b[38;5;124;43m[12]\u001b[39;49m\u001b[38;5;124;43m'\u001b[39;49m\u001b[43m,\u001b[49m\u001b[38;5;124;43m'\u001b[39;49m\u001b[38;5;124;43m3,4\u001b[39;49m\u001b[38;5;124;43m'\u001b[39;49m\u001b[43m,\u001b[49m\u001b[38;5;124;43m'\u001b[39;49m\u001b[38;5;124;43m56\u001b[39;49m\u001b[38;5;124;43m'\u001b[39;49m\u001b[43m]\u001b[49m\u001b[43m,\u001b[49m\u001b[43m \u001b[49m\u001b[43mdtype\u001b[49m\u001b[38;5;241;43m=\u001b[39;49m\u001b[43mnp\u001b[49m\u001b[38;5;241;43m.\u001b[39;49m\u001b[43mint32\u001b[49m\u001b[43m)\u001b[49m\n\u001b[0;32m      2\u001b[0m \u001b[38;5;28mprint\u001b[39m(result)\n",
      "\u001b[1;31mValueError\u001b[0m: invalid literal for int() with base 10: '[12]'"
     ]
    }
   ],
   "source": [
    "result = np.array(['[12]','3,4','56'], dtype=np.int32)\n",
    "print(result)"
   ]
  },
  {
   "cell_type": "code",
   "execution_count": 47,
   "id": "6f921a53-fe94-49be-8364-a5057652ca64",
   "metadata": {},
   "outputs": [
    {
     "name": "stdout",
     "output_type": "stream",
     "text": [
      "[ 2.2  4.4  6.6 -2.2 -4.4 -6.6]\n",
      "[0. 0. 0. 0. 0. 0.]\n"
     ]
    }
   ],
   "source": [
    "print(arr + arr)\n",
    "print(arr - arr)"
   ]
  },
  {
   "cell_type": "code",
   "execution_count": 46,
   "id": "21ed9559-58df-4124-8001-ae337351de13",
   "metadata": {},
   "outputs": [
    {
     "name": "stdout",
     "output_type": "stream",
     "text": [
      "[ 0.11  0.22  0.33 -0.11 -0.22 -0.33]\n",
      "[ 1.21  4.84 10.89  1.21  4.84 10.89]\n"
     ]
    }
   ],
   "source": [
    "print(arr / 10 )\n",
    "print(arr ** 2)"
   ]
  },
  {
   "cell_type": "code",
   "execution_count": 49,
   "id": "f0e9cce2-9098-45f9-a04a-5a6e7f560643",
   "metadata": {},
   "outputs": [
    {
     "name": "stdout",
     "output_type": "stream",
     "text": [
      "[ 1.1  2.2  3.3 -1.1 -2.2 -3.3]\n",
      "[[3 2 1]\n",
      " [6 5 4]]\n"
     ]
    }
   ],
   "source": [
    "b = [\n",
    "    [3,2,1],\n",
    "    [6,5,4]\n",
    "]\n",
    "arr2 = np.array(b)\n",
    "\n",
    "print(arr)\n",
    "print(arr2)\n",
    "print(arr > arr2)"
   ]
  },
  {
   "cell_type": "code",
   "execution_count": 55,
   "id": "94862bdb-b4ec-477f-a5f4-d622b4fde99d",
   "metadata": {},
   "outputs": [
    {
     "name": "stdout",
     "output_type": "stream",
     "text": [
      "[0 1 2 3 4 5 6 7 8 9]\n",
      "5\n",
      "[3 4 5]\n"
     ]
    },
    {
     "data": {
      "text/plain": [
       "array([3, 4, 5])"
      ]
     },
     "execution_count": 55,
     "metadata": {},
     "output_type": "execute_result"
    }
   ],
   "source": [
    "## 1.4 인덱싱, 슬라이싱\n",
    "\n",
    "arr = np.arange(10)\n",
    "print(arr)\n",
    "print(arr[5])\n",
    "print(arr[3:6])\n",
    "\n",
    "arr[3:6] = 99\n",
    "print(arr)"
   ]
  },
  {
   "cell_type": "code",
   "execution_count": 57,
   "id": "a8dc00b0-19c7-4206-be9d-0f2ed51738b8",
   "metadata": {},
   "outputs": [
    {
     "name": "stdout",
     "output_type": "stream",
     "text": [
      "[3 4 5]\n"
     ]
    }
   ],
   "source": [
    "slice_arr = arr[3:6]\n",
    "print(slice_arr)"
   ]
  },
  {
   "cell_type": "code",
   "execution_count": 59,
   "id": "91b87349-747c-4826-bcd4-d92feeb276b2",
   "metadata": {},
   "outputs": [
    {
     "name": "stdout",
     "output_type": "stream",
     "text": [
      "[ 3 55  5]\n",
      "[ 0  1  2  3 55  5  6  7  8  9]\n"
     ]
    }
   ],
   "source": [
    "slice_arr[1] = 55\n",
    "print(slice_arr)\n",
    "print(arr)"
   ]
  },
  {
   "cell_type": "code",
   "execution_count": 60,
   "id": "15cb6efd-44c9-4275-bfc8-12d8e9677687",
   "metadata": {},
   "outputs": [
    {
     "data": {
      "text/plain": [
       "array([ 3, 55,  5])"
      ]
     },
     "execution_count": 60,
     "metadata": {},
     "output_type": "execute_result"
    }
   ],
   "source": [
    "slice_arr[:] "
   ]
  },
  {
   "cell_type": "code",
   "execution_count": 107,
   "id": "4b1e04c8-1467-4e1a-94dc-7abf7edffcf6",
   "metadata": {},
   "outputs": [
    {
     "ename": "SyntaxError",
     "evalue": "invalid syntax (2310668684.py, line 12)",
     "output_type": "error",
     "traceback": [
      "\u001b[1;36m  Cell \u001b[1;32mIn[107], line 12\u001b[1;36m\u001b[0m\n\u001b[1;33m    arr = np.array.(a)\u001b[0m\n\u001b[1;37m                   ^\u001b[0m\n\u001b[1;31mSyntaxError\u001b[0m\u001b[1;31m:\u001b[0m invalid syntax\n"
     ]
    }
   ],
   "source": [
    "a = [\n",
    "    [\n",
    "            [1,2,3],\n",
    "            [4,5,6]\n",
    "    ],\n",
    "    [\n",
    "        [7,8,9],\n",
    "        [10,11,12]\n",
    "        \n",
    "    ]\n",
    "]\n",
    "arr = np.array.(a)\n",
    "print(arr)\n",
    "\n"
   ]
  },
  {
   "cell_type": "code",
   "execution_count": 66,
   "id": "9757f36a-2350-43bd-b59a-ed2ee7c58926",
   "metadata": {},
   "outputs": [
    {
     "name": "stdout",
     "output_type": "stream",
     "text": [
      "0\n"
     ]
    },
    {
     "ename": "IndexError",
     "evalue": "invalid index to scalar variable.",
     "output_type": "error",
     "traceback": [
      "\u001b[1;31m---------------------------------------------------------------------------\u001b[0m",
      "\u001b[1;31mIndexError\u001b[0m                                Traceback (most recent call last)",
      "Cell \u001b[1;32mIn[66], line 2\u001b[0m\n\u001b[0;32m      1\u001b[0m \u001b[38;5;28mprint\u001b[39m(arr[\u001b[38;5;241m0\u001b[39m])\n\u001b[1;32m----> 2\u001b[0m \u001b[38;5;28mprint\u001b[39m(\u001b[43marr\u001b[49m\u001b[43m[\u001b[49m\u001b[38;5;241;43m0\u001b[39;49m\u001b[43m]\u001b[49m\u001b[43m[\u001b[49m\u001b[38;5;241;43m0\u001b[39;49m\u001b[43m]\u001b[49m[\u001b[38;5;241m0\u001b[39m])\n\u001b[0;32m      3\u001b[0m \u001b[38;5;28mprint\u001b[39m(arr[\u001b[38;5;241m0\u001b[39m,\u001b[38;5;241m0\u001b[39m][\u001b[38;5;241m0\u001b[39m])\n",
      "\u001b[1;31mIndexError\u001b[0m: invalid index to scalar variable."
     ]
    }
   ],
   "source": [
    "print(arr[0])\n",
    "print(arr[0][0][0])\n",
    "print(arr[0,0][0])"
   ]
  },
  {
   "cell_type": "code",
   "execution_count": 67,
   "id": "4907ce31-0e14-4601-b329-013d1067caf1",
   "metadata": {},
   "outputs": [
    {
     "data": {
      "text/plain": [
       "array([1, 2, 3, 4, 5, 6, 7, 8, 9])"
      ]
     },
     "execution_count": 67,
     "metadata": {},
     "output_type": "execute_result"
    }
   ],
   "source": [
    "arr = np.arange(10)\n",
    "arr [1:]"
   ]
  },
  {
   "cell_type": "code",
   "execution_count": 68,
   "id": "e6da8a2e-0a53-415c-9b77-fade12326c64",
   "metadata": {},
   "outputs": [
    {
     "data": {
      "text/plain": [
       "array([[0, 1, 2],\n",
       "       [3, 4, 5],\n",
       "       [6, 7, 8]])"
      ]
     },
     "execution_count": 68,
     "metadata": {},
     "output_type": "execute_result"
    }
   ],
   "source": [
    "np.arange(9).reshape(3,3)"
   ]
  },
  {
   "cell_type": "code",
   "execution_count": 73,
   "id": "58688dc0-ca95-4b0b-b1d4-3b851aadd2e6",
   "metadata": {},
   "outputs": [],
   "source": [
    "array:([[0,1,2],\n",
    "        [3,4,5]])\n"
   ]
  },
  {
   "cell_type": "code",
   "execution_count": 74,
   "id": "a8ea55a1-5fa2-4005-acf0-751fb4777b21",
   "metadata": {},
   "outputs": [
    {
     "ename": "NameError",
     "evalue": "name 'arr2d' is not defined",
     "output_type": "error",
     "traceback": [
      "\u001b[1;31m---------------------------------------------------------------------------\u001b[0m",
      "\u001b[1;31mNameError\u001b[0m                                 Traceback (most recent call last)",
      "Cell \u001b[1;32mIn[74], line 1\u001b[0m\n\u001b[1;32m----> 1\u001b[0m \u001b[43marr2d\u001b[49m[\u001b[38;5;241m1\u001b[39m, :\u001b[38;5;241m2\u001b[39m]\n",
      "\u001b[1;31mNameError\u001b[0m: name 'arr2d' is not defined"
     ]
    }
   ],
   "source": [
    "arr2d[1, :2]"
   ]
  },
  {
   "cell_type": "code",
   "execution_count": 76,
   "id": "5e2ff534-4b12-4b7f-b462-1ecd6e98ead7",
   "metadata": {},
   "outputs": [
    {
     "ename": "NameError",
     "evalue": "name 'arr2d' is not defined",
     "output_type": "error",
     "traceback": [
      "\u001b[1;31m---------------------------------------------------------------------------\u001b[0m",
      "\u001b[1;31mNameError\u001b[0m                                 Traceback (most recent call last)",
      "Cell \u001b[1;32mIn[76], line 1\u001b[0m\n\u001b[1;32m----> 1\u001b[0m \u001b[43marr2d\u001b[49m[:, :\u001b[38;5;241m1\u001b[39m] \u001b[38;5;241m=\u001b[39m \u001b[38;5;241m99\u001b[39m\n\u001b[0;32m      2\u001b[0m \u001b[38;5;28mprint\u001b[39m(arr2d)\n",
      "\u001b[1;31mNameError\u001b[0m: name 'arr2d' is not defined"
     ]
    }
   ],
   "source": [
    "arr2d[:, :1] = 99\n",
    "print(arr2d)"
   ]
  },
  {
   "cell_type": "markdown",
   "id": "2631d321-6ca1-4771-98bc-cf855e5e7043",
   "metadata": {},
   "source": [
    "## booL 값으로 선택"
   ]
  },
  {
   "cell_type": "code",
   "execution_count": 114,
   "id": "c5b6c82a-338b-4559-aa8f-cbddec6ccb82",
   "metadata": {},
   "outputs": [],
   "source": [
    "names = ['hong','kim','park','kim']\n",
    "scores = [\n",
    "    ['수학',70],\n",
    "    ['영어',80],\n",
    "    ['수학',100],\n",
    "    ['수학',90],\n",
    "    \n",
    "]\n",
    "names_arr = np.array(names)\n",
    "scores_arr = np.array(scores)"
   ]
  },
  {
   "cell_type": "code",
   "execution_count": 115,
   "id": "194eb185-f1dd-47bb-9635-a92c7ef61a6d",
   "metadata": {},
   "outputs": [
    {
     "name": "stdout",
     "output_type": "stream",
     "text": [
      "['hong' 'kim' 'park' 'kim']\n",
      "[['수학' '70']\n",
      " ['영어' '80']\n",
      " ['수학' '100']\n",
      " ['수학' '90']]\n"
     ]
    }
   ],
   "source": [
    "print(names_arr)\n",
    "print(scores_arr)"
   ]
  },
  {
   "cell_type": "code",
   "execution_count": 117,
   "id": "7f58275d-0be4-4e76-965d-c25875a9918e",
   "metadata": {},
   "outputs": [
    {
     "data": {
      "text/plain": [
       "array([False, False,  True, False])"
      ]
     },
     "execution_count": 117,
     "metadata": {},
     "output_type": "execute_result"
    }
   ],
   "source": [
    "names_arr == 'park'"
   ]
  },
  {
   "cell_type": "code",
   "execution_count": 118,
   "id": "6c800ffd-1bd9-4c40-9c56-0449e4a8f9c0",
   "metadata": {},
   "outputs": [
    {
     "data": {
      "text/plain": [
       "array([['수학', '100']], dtype='<U21')"
      ]
     },
     "execution_count": 118,
     "metadata": {},
     "output_type": "execute_result"
    }
   ],
   "source": [
    "scores_arr[names_arr == 'park']"
   ]
  },
  {
   "cell_type": "code",
   "execution_count": 120,
   "id": "e02bd484-fb68-4936-8d87-7bd1582b95db",
   "metadata": {},
   "outputs": [
    {
     "data": {
      "text/plain": [
       "array([['80'],\n",
       "       ['90']], dtype='<U21')"
      ]
     },
     "execution_count": 120,
     "metadata": {},
     "output_type": "execute_result"
    }
   ],
   "source": [
    "scores_arr[names_arr == 'kim', 1:]"
   ]
  },
  {
   "cell_type": "code",
   "execution_count": 123,
   "id": "a68f570a-6447-4b6b-9ae7-0e441c68196c",
   "metadata": {},
   "outputs": [
    {
     "data": {
      "text/plain": [
       "array(['80', '90'], dtype='<U21')"
      ]
     },
     "execution_count": 123,
     "metadata": {},
     "output_type": "execute_result"
    }
   ],
   "source": [
    "scores_arr[names_arr == 'kim', 1]"
   ]
  },
  {
   "cell_type": "code",
   "execution_count": 126,
   "id": "ef320da6-7adc-42f5-af20-becb754504c4",
   "metadata": {},
   "outputs": [
    {
     "name": "stdout",
     "output_type": "stream",
     "text": [
      "[ True False  True False]\n",
      "[False  True False  True]\n"
     ]
    }
   ],
   "source": [
    "print(names_arr != 'kim')\n",
    "print(~(names_arr == 'kim'))"
   ]
  },
  {
   "cell_type": "code",
   "execution_count": 127,
   "id": "7fb86d35-1dfe-4a15-a88e-58cb889dcc71",
   "metadata": {},
   "outputs": [
    {
     "data": {
      "text/plain": [
       "array([['수학', '70']], dtype='<U21')"
      ]
     },
     "execution_count": 127,
     "metadata": {},
     "output_type": "execute_result"
    }
   ],
   "source": [
    "cond = names_arr == 'hong'\n",
    "scores_arr[cond]"
   ]
  },
  {
   "cell_type": "code",
   "execution_count": 128,
   "id": "44c6ad6b-be3c-4ae8-99be-29ae740a5f7d",
   "metadata": {},
   "outputs": [
    {
     "data": {
      "text/plain": [
       "array([['영어', '80'],\n",
       "       ['수학', '100'],\n",
       "       ['수학', '90']], dtype='<U21')"
      ]
     },
     "execution_count": 128,
     "metadata": {},
     "output_type": "execute_result"
    }
   ],
   "source": [
    "cond = ( names_arr == 'kim') | ( names_arr == 'park')\n",
    "scores_arr[cond]\n"
   ]
  },
  {
   "cell_type": "markdown",
   "id": "a93e6c29-a67f-42a3-8b67-7cc037fcf45e",
   "metadata": {},
   "source": [
    "## 1.6 팬시 인덱싱(fancy indexing)"
   ]
  },
  {
   "cell_type": "code",
   "execution_count": 138,
   "id": "66e3e7a2-d5cd-4e1e-913b-17a10710594b",
   "metadata": {},
   "outputs": [
    {
     "name": "stdout",
     "output_type": "stream",
     "text": [
      "[[ 0  1  2  3]\n",
      " [ 4  5  6  7]\n",
      " [ 8  9 10 11]\n",
      " [12 13 14 15]\n",
      " [16 17 18 19]\n",
      " [20 21 22 23]\n",
      " [24 25 26 27]\n",
      " [28 29 30 31]]\n"
     ]
    }
   ],
   "source": [
    "arr = np.arange(32).reshape(8,4)\n",
    "print(arr)"
   ]
  },
  {
   "cell_type": "code",
   "execution_count": 134,
   "id": "a1e753f7-d930-4579-98a8-3d817c866c93",
   "metadata": {},
   "outputs": [
    {
     "name": "stdout",
     "output_type": "stream",
     "text": [
      "[[ 0  1  2  3]\n",
      " [12 13 14 15]\n",
      " [ 8  9 10 11]\n",
      " [ 4  5  6  7]\n",
      " [24 25 26 27]]\n"
     ]
    }
   ],
   "source": [
    "print(arr[[0,3,2,1,6]])"
   ]
  },
  {
   "cell_type": "code",
   "execution_count": 140,
   "id": "43f873bc-59db-4136-99d3-61dda739173b",
   "metadata": {},
   "outputs": [
    {
     "name": "stdout",
     "output_type": "stream",
     "text": [
      "[[20 21 22 23]\n",
      " [28 29 30 31]]\n"
     ]
    }
   ],
   "source": [
    "print(arr[[-3,-1]])"
   ]
  },
  {
   "cell_type": "code",
   "execution_count": 142,
   "id": "443403bf-fc0a-47ee-a6bc-41fec3825ed0",
   "metadata": {},
   "outputs": [
    {
     "name": "stdout",
     "output_type": "stream",
     "text": [
      "[[ 0  1  2  3]\n",
      " [ 4 99  6  7]\n",
      " [ 8  9 99 11]\n",
      " [12 13 14 99]\n",
      " [16 17 18 19]\n",
      " [20 21 22 23]\n",
      " [24 25 26 27]\n",
      " [28 29 30 31]]\n"
     ]
    }
   ],
   "source": [
    "arr[[3,2,1,],[3,2,1]] = 99\n",
    "print(arr)"
   ]
  },
  {
   "cell_type": "markdown",
   "id": "08a24c3c-be48-4c68-8b38-0f6688d8e1e8",
   "metadata": {},
   "source": [
    "## 1.7 전치"
   ]
  },
  {
   "cell_type": "code",
   "execution_count": 146,
   "id": "edfeaf37-5023-4260-ab6b-68aa1be581ce",
   "metadata": {},
   "outputs": [
    {
     "name": "stdout",
     "output_type": "stream",
     "text": [
      "[[ 0  1  2  3  4]\n",
      " [ 5  6  7  8  9]\n",
      " [10 11 12 13 14]]\n",
      "[[ 0  5 10]\n",
      " [ 1  6 11]\n",
      " [ 2  7 12]\n",
      " [ 3  8 13]\n",
      " [ 4  9 14]]\n"
     ]
    }
   ],
   "source": [
    "arr = np.arange(15).reshape(3,5)\n",
    "print(arr)\n",
    "print(arr.T)"
   ]
  },
  {
   "cell_type": "code",
   "execution_count": 148,
   "id": "23cf2e5d-b874-4a87-88a2-07a951260500",
   "metadata": {},
   "outputs": [
    {
     "name": "stdout",
     "output_type": "stream",
     "text": [
      "[[ 30  80 130]\n",
      " [ 80 255 430]\n",
      " [130 430 730]]\n",
      "[[ 30  80 130]\n",
      " [ 80 255 430]\n",
      " [130 430 730]]\n"
     ]
    }
   ],
   "source": [
    "print(np.dot(arr, arr.T))\n",
    "print(arr @ arr.T)"
   ]
  },
  {
   "cell_type": "markdown",
   "id": "9c77d4ad-030f-45f2-a1df-5a5f24736e00",
   "metadata": {},
   "source": [
    "## 난수 생성"
   ]
  },
  {
   "cell_type": "code",
   "execution_count": 151,
   "id": "fe98eb49-9470-49f5-b0be-71e0295022f6",
   "metadata": {},
   "outputs": [
    {
     "name": "stdout",
     "output_type": "stream",
     "text": [
      "[[ 1.80923499  0.57557449  0.31105563  0.66879098]\n",
      " [-0.50177758  0.30188957  0.64676536 -0.71586646]\n",
      " [ 0.15084971  0.83156084 -0.17349315 -0.24299763]\n",
      " [ 1.04681382  0.63217068  0.58617558 -0.07866845]]\n"
     ]
    }
   ],
   "source": [
    "sample = np.random.standard_normal(size=(4,4))\n",
    "print(sample)"
   ]
  },
  {
   "cell_type": "code",
   "execution_count": 156,
   "id": "04b47afd-e14c-4606-a4c3-de8599eedf5a",
   "metadata": {},
   "outputs": [
    {
     "name": "stdout",
     "output_type": "stream",
     "text": [
      "[[1.34507806 0.75866626 0.55772362 0.81779642]\n",
      " [       nan 0.54944479 0.80421724        nan]\n",
      " [0.38839375 0.91189958        nan        nan]\n",
      " [1.0231392  0.79509162 0.76562104        nan]]\n"
     ]
    },
    {
     "name": "stderr",
     "output_type": "stream",
     "text": [
      "C:\\Users\\이아랑\\AppData\\Local\\Temp\\ipykernel_8296\\2344619755.py:1: RuntimeWarning: invalid value encountered in sqrt\n",
      "  print(np.sqrt(sample))\n"
     ]
    }
   ],
   "source": [
    "print(np.sqrt(sample))"
   ]
  },
  {
   "cell_type": "code",
   "execution_count": 157,
   "id": "8a7958aa-a4f9-4d78-a03f-df4af15cd881",
   "metadata": {},
   "outputs": [
    {
     "name": "stdout",
     "output_type": "stream",
     "text": [
      "[[1.80923499 0.57557449 0.31105563 0.66879098]\n",
      " [0.50177758 0.30188957 0.64676536 0.71586646]\n",
      " [0.15084971 0.83156084 0.17349315 0.24299763]\n",
      " [1.04681382 0.63217068 0.58617558 0.07866845]]\n"
     ]
    }
   ],
   "source": [
    "print(np.abs(sample))"
   ]
  },
  {
   "cell_type": "code",
   "execution_count": 159,
   "id": "a1f6b740-b401-474f-a64a-3ab7abaeb2f0",
   "metadata": {},
   "outputs": [
    {
     "name": "stderr",
     "output_type": "stream",
     "text": [
      "C:\\Users\\이아랑\\AppData\\Local\\Temp\\ipykernel_8296\\619758985.py:1: RuntimeWarning: invalid value encountered in sqrt\n",
      "  np.isnan(np.sqrt(sample))\n"
     ]
    },
    {
     "data": {
      "text/plain": [
       "array([[False, False, False, False],\n",
       "       [ True, False, False,  True],\n",
       "       [False, False,  True,  True],\n",
       "       [False, False, False,  True]])"
      ]
     },
     "execution_count": 159,
     "metadata": {},
     "output_type": "execute_result"
    }
   ],
   "source": [
    "np.isnan(np.sqrt(sample))"
   ]
  },
  {
   "cell_type": "code",
   "execution_count": 166,
   "id": "1135a3e5-bf3f-4346-a9fd-97db815e52c7",
   "metadata": {},
   "outputs": [
    {
     "name": "stdout",
     "output_type": "stream",
     "text": [
      "[ 0  1  2 ... -8 -7 -6]\n"
     ]
    }
   ],
   "source": [
    "import random\n",
    "position = 0\n",
    "walk = [position]\n",
    "nsteps = 1000\n",
    "for _ in range(nsteps):\n",
    "    step = 1 if random.randint(0,1) else -1\n",
    "    position += step\n",
    "    walk.append(position)\n",
    "walk_arr = np.array(walk)\n",
    "print(walk_arr)"
   ]
  },
  {
   "cell_type": "code",
   "execution_count": 178,
   "id": "28bc81ab-e42b-4224-be28-04a447413f6c",
   "metadata": {},
   "outputs": [],
   "source": [
    "import matplotlib.pyplot as plt"
   ]
  },
  {
   "cell_type": "code",
   "execution_count": 179,
   "id": "37b0f6c9-2348-4df6-82b3-af24a5ed6746",
   "metadata": {},
   "outputs": [
    {
     "data": {
      "text/plain": [
       "<Figure size 640x480 with 0 Axes>"
      ]
     },
     "execution_count": 179,
     "metadata": {},
     "output_type": "execute_result"
    },
    {
     "data": {
      "text/plain": [
       "<Figure size 640x480 with 0 Axes>"
      ]
     },
     "metadata": {},
     "output_type": "display_data"
    }
   ],
   "source": [
    "plt. figure()"
   ]
  },
  {
   "cell_type": "code",
   "execution_count": 181,
   "id": "565d924e-fa5f-4bdb-bdc5-63859131a81a",
   "metadata": {},
   "outputs": [
    {
     "data": {
      "text/plain": [
       "<function matplotlib.pyplot.show(close=None, block=None)>"
      ]
     },
     "execution_count": 181,
     "metadata": {},
     "output_type": "execute_result"
    },
    {
     "data": {
      "image/png": "[encoded data removed]",
      "text/plain": [
       "<Figure size 640x480 with 1 Axes>"
      ]
     },
     "metadata": {},
     "output_type": "display_data"
    }
   ],
   "source": [
    "plt.plot(walk_arr[:100])\n",
    "plt.show"
   ]
  },
  {
   "cell_type": "code",
   "execution_count": 185,
   "id": "607f9498-6418-412e-9835-0aa6652c1926",
   "metadata": {},
   "outputs": [
    {
     "name": "stdout",
     "output_type": "stream",
     "text": [
      "2\n",
      "-18\n",
      "0\n"
     ]
    }
   ],
   "source": [
    "print(walk_arr[:100].max())\n",
    "print(walk_arr[:100].min())\n",
    "print((walk_arr[:100]>=0).argmax())"
   ]
  },
  {
   "cell_type": "code",
   "execution_count": null,
   "id": "49d986e8-b7fe-4987-ae9c-1792f70203b2",
   "metadata": {},
   "outputs": [],
   "source": []
  }
 ],
 "metadata": {
  "kernelspec": {
   "display_name": "Python 3 (ipykernel)",
   "language": "python",
   "name": "python3"
  },
  "language_info": {
   "codemirror_mode": {
    "name": "ipython",
    "version": 3
   },
   "file_extension": ".py",
   "mimetype": "text/x-python",
   "name": "python",
   "nbconvert_exporter": "python",
   "pygments_lexer": "ipython3",
   "version": "3.12.4"
  }
 },
 "nbformat": 4,
 "nbformat_minor": 5
}
